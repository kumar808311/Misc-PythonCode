{
 "cells": [
  {
   "cell_type": "code",
   "execution_count": 4,
   "id": "95156a9d",
   "metadata": {},
   "outputs": [],
   "source": [
    "import numpy as np"
   ]
  },
  {
   "cell_type": "code",
   "execution_count": 5,
   "id": "8bd08bc5",
   "metadata": {},
   "outputs": [],
   "source": [
    "# 2D n*m matrix\n",
    "test=[\n",
    "   [ 1,2,3],\n",
    "   [4,5,6], \n",
    "   [7,8,9],\n",
    "  [10,11,12]\n",
    "]\n"
   ]
  },
  {
   "cell_type": "code",
   "execution_count": 6,
   "id": "f3ed1ef4",
   "metadata": {},
   "outputs": [
    {
     "name": "stdout",
     "output_type": "stream",
     "text": [
      "Total number of rows    :- 4\n",
      "Total number of columns : 3\n"
     ]
    }
   ],
   "source": [
    "print('Total number of rows    :-', len(test))\n",
    "print('Total number of columns :',len(test[0]))"
   ]
  },
  {
   "cell_type": "code",
   "execution_count": 7,
   "id": "85fdce60",
   "metadata": {},
   "outputs": [],
   "source": [
    "max_col=len(test[0])\n",
    "max_row=len(test)"
   ]
  },
  {
   "cell_type": "code",
   "execution_count": 8,
   "id": "28362cbd",
   "metadata": {},
   "outputs": [
    {
     "name": "stdout",
     "output_type": "stream",
     "text": [
      "[[1, 4, 7, 10], [2, 5, 8, 11], [3, 6, 9, 12]]\n",
      "[[1, 2, 3], [4, 5, 6], [7, 8, 9], [10, 11, 12]]\n",
      "[[1], [4, 2], [7, 5, 3], [10, 8, 6], [11, 9], [12]]\n",
      "[[10], [7, 11], [4, 8, 12], [1, 5, 9], [2, 6], [3]]\n"
     ]
    }
   ],
   "source": [
    "cols = [[] for _ in range(max_col)]\n",
    "rows = [[] for _ in range(max_row)]\n",
    "fdiag = [[] for _ in range(max_row + max_col - 1)]\n",
    "bdiag = [[] for _ in range(len(fdiag))]\n",
    "min_bdiag = -max_row + 1\n",
    "\n",
    "for x in range(max_col):\n",
    "    for y in range(max_row):\n",
    "        cols[x].append(test[y][x])\n",
    "        rows[y].append(test[y][x])\n",
    "        fdiag[x+y].append(test[y][x])\n",
    "        bdiag[x-y-min_bdiag].append(test[y][x])\n",
    "\n",
    "print(cols)\n",
    "print(rows)\n",
    "print(fdiag)\n",
    "print(bdiag)"
   ]
  }
 ],
 "metadata": {
  "kernelspec": {
   "display_name": "Python 3",
   "language": "python",
   "name": "python3"
  },
  "language_info": {
   "codemirror_mode": {
    "name": "ipython",
    "version": 3
   },
   "file_extension": ".py",
   "mimetype": "text/x-python",
   "name": "python",
   "nbconvert_exporter": "python",
   "pygments_lexer": "ipython3",
   "version": "3.8.8"
  }
 },
 "nbformat": 4,
 "nbformat_minor": 5
}
